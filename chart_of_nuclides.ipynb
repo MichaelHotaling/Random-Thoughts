{
 "cells": [
  {
   "cell_type": "code",
   "execution_count": 1,
   "id": "eea4212a",
   "metadata": {},
   "outputs": [],
   "source": [
    "import pandas as pd\n",
    "import numpy as np\n",
    "import matplotlib.pyplot as plt\n",
    "\n",
    "from bokeh.plotting import figure, show, save\n",
    "from bokeh.models import ColumnDataSource, HoverTool\n",
    "from bokeh.io import output_file"
   ]
  },
  {
   "cell_type": "code",
   "execution_count": 2,
   "id": "02187088",
   "metadata": {},
   "outputs": [],
   "source": [
    "CSV_PATH = 'C:/Users/hotal/Downloads/nndc_nudat_data_export (1).csv'\n",
    "OUTPUT_FILE = 'chart_of_nuclides.html'\n",
    "BINS = pd.IntervalIndex.from_tuples(\n",
    "    [(-np.inf, 0), (0, 10**-15), (10**-15, 10**-7), (10**-7, 10**-6), (10**-6, 10**-5), (10**-5, 10**-4),\n",
    "     (10**-4, 10**-3), (10**-3, 10**-2), (10**-2, 10**-1), (10**-1, 10**0), (10**0, 10**1), (10**1, 10**2),\n",
    "     (10**2, 10**3), (10**3, 10**4), (10**4, 10**5), (10**5, 10**7), (10**7, 10**10), (10**10, 10**15), (10**15, np.inf)\n",
    "    ])\n",
    "COLORS = ['#e0e0e0', '#de9473','#f7bdde','#ffc6a5','#ffe7c6','#ffff9c','#ffff10','#e7f784','#d6ef39','#acde63',\n",
    "          '#52b552','#63bdb5','#63c6de','#00a5c6','#089a94','#0084a5','#3152a5','#29006b','#000000']\n",
    "TIME_UNITS_TO_SECONDS = {'s':1, 'y':31536000, 'ys':1e-24, 'ms':1e-3, 'ns':1e-9, 'd':86400, 'ps':1e-12, 'm':60,\n",
    "                         'as':1e-18, 'h':3600, 'us':1e-6, 'mev':1e-100, 'kev':1e-100, 'ev':1e-100, np.nan:1}\n",
    "MAPPER = {b:c for b,c in zip(BINS,COLORS)}"
   ]
  },
  {
   "cell_type": "code",
   "execution_count": 3,
   "id": "68defdd9",
   "metadata": {},
   "outputs": [],
   "source": [
    "def load_data():\n",
    "    return pd.read_csv(CSV_PATH)\n",
    "\n",
    "def process_data(df):\n",
    "    return (\n",
    "        df\n",
    "        .fillna({\"halflife\":'UNKNOWN'})\n",
    "        .assign(hl2=lambda x: x['halflife'].replace({'STABLE':1e100, 'UNKNOWN':-1}).astype(np.float64) * x['halflifeUnit'].map(TIME_UNITS_TO_SECONDS))\n",
    "        .assign(color = lambda x: pd.cut(x['hl2'], bins = BINS).map(MAPPER))\n",
    "        .fillna({\"halflifeUnit\":''})\n",
    "        .sort_values('hl2', ascending=False)\n",
    "        .groupby('name').first()\n",
    "    )\n",
    "\n",
    "def create_figure(df):\n",
    "    output_file(OUTPUT_FILE)\n",
    "    source = ColumnDataSource(df)\n",
    "    p = figure(width = 900, height = 800)\n",
    "    r = p.rect(x = 'n', y = 'z', fill_color = 'color', width = 0.99, height = 0.99, source = source, line_color = None)\n",
    "    hover = HoverTool(renderers = [r], tooltips= [('Name','@name'), ('Protons',\"@z\"), ('Neutrons','@n'), ('HalfLife','@halflife@halflifeUnit')])\n",
    "    p.add_tools(hover)\n",
    "    save(p)\n",
    "    show(p)"
   ]
  },
  {
   "cell_type": "code",
   "execution_count": 4,
   "id": "0466658f",
   "metadata": {},
   "outputs": [],
   "source": [
    "def main():\n",
    "    df = load_data()\n",
    "    df = process_data(df)\n",
    "    create_figure(df)"
   ]
  },
  {
   "cell_type": "code",
   "execution_count": 5,
   "id": "79c7c861",
   "metadata": {},
   "outputs": [],
   "source": [
    "if __name__ == '__main__':\n",
    "    main()"
   ]
  },
  {
   "cell_type": "code",
   "execution_count": 6,
   "id": "57f1d3fc",
   "metadata": {},
   "outputs": [
    {
     "data": {
      "text/html": [
       "<iframe src=\"chart_of_nuclides.html\", width = 950, height = 850></iframe>\n"
      ],
      "text/plain": [
       "<IPython.core.display.HTML object>"
      ]
     },
     "metadata": {},
     "output_type": "display_data"
    }
   ],
   "source": [
    "%%html\n",
    "<iframe src=\"chart_of_nuclides.html\", width = 950, height = 850></iframe>"
   ]
  },
  {
   "cell_type": "code",
   "execution_count": null,
   "id": "c413ddf8",
   "metadata": {},
   "outputs": [],
   "source": []
  }
 ],
 "metadata": {
  "kernelspec": {
   "display_name": "Python 3 (ipykernel)",
   "language": "python",
   "name": "python3"
  },
  "language_info": {
   "codemirror_mode": {
    "name": "ipython",
    "version": 3
   },
   "file_extension": ".py",
   "mimetype": "text/x-python",
   "name": "python",
   "nbconvert_exporter": "python",
   "pygments_lexer": "ipython3",
   "version": "3.10.10"
  }
 },
 "nbformat": 4,
 "nbformat_minor": 5
}
