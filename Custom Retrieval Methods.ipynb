{
 "cells": [
  {
   "cell_type": "code",
   "execution_count": 1,
   "id": "5822b11a",
   "metadata": {},
   "outputs": [],
   "source": [
    "from langchain.vectorstores import Chroma\n",
    "from langchain.embeddings import HuggingFaceEmbeddings\n",
    "from langchain.document_loaders import DirectoryLoader\n",
    "from langchain.embeddings.openai import OpenAIEmbeddings\n",
    "from langchain.chat_models import ChatOpenAI\n",
    "from langchain.text_splitter import RecursiveCharacterTextSplitter\n",
    "from langchain.prompts import PromptTemplate\n",
    "from langchain.vectorstores import Chroma"
   ]
  },
  {
   "cell_type": "code",
   "execution_count": 2,
   "id": "952266a3",
   "metadata": {},
   "outputs": [
    {
     "name": "stderr",
     "output_type": "stream",
     "text": [
      "100%|██████████████████████████████████████████████████████████████████████████████████| 49/49 [01:09<00:00,  1.42s/it]\n"
     ]
    }
   ],
   "source": [
    "loader = DirectoryLoader('./PaulGrahamEssaysLarge/', glob=\"**/*.txt\", show_progress=True)\n",
    "\n",
    "docs = loader.load()"
   ]
  },
  {
   "cell_type": "code",
   "execution_count": 3,
   "id": "a25b1ce2",
   "metadata": {},
   "outputs": [
    {
     "name": "stdout",
     "output_type": "stream",
     "text": [
      "Your 49 documents have been split into 1421 chunks\n"
     ]
    }
   ],
   "source": [
    "# Split\n",
    "text_splitter = RecursiveCharacterTextSplitter(chunk_size=500, chunk_overlap=0)\n",
    "splits = text_splitter.split_documents(docs)\n",
    "\n",
    "print (f\"Your {len(docs)} documents have been split into {len(splits)} chunks\")"
   ]
  },
  {
   "cell_type": "code",
   "execution_count": 4,
   "id": "0d4c09d1",
   "metadata": {},
   "outputs": [
    {
     "name": "stderr",
     "output_type": "stream",
     "text": [
      "C:\\Users\\hotal\\anaconda3\\envs\\AutoGPT\\lib\\site-packages\\tqdm\\auto.py:21: TqdmWarning: IProgress not found. Please update jupyter and ipywidgets. See https://ipywidgets.readthedocs.io/en/stable/user_install.html\n",
      "  from .autonotebook import tqdm as notebook_tqdm\n"
     ]
    }
   ],
   "source": [
    "embedding = HuggingFaceEmbeddings(\n",
    "    model_name = 'all-MiniLM-L6-v2'\n",
    ")\n",
    "\n",
    "if 'db' in globals():\n",
    "    db.delete_collection()\n",
    "\n",
    "db = Chroma.from_documents(\n",
    "    documents=splits, \n",
    "    embedding=embedding, \n",
    "    persist_directory=\"./db/\"\n",
    ")"
   ]
  },
  {
   "cell_type": "code",
   "execution_count": 5,
   "id": "49b214a8",
   "metadata": {},
   "outputs": [
    {
     "name": "stdout",
     "output_type": "stream",
     "text": [
      "PaulGrahamEssaysLarge\\startuplessons.txt\n",
      "------------------------\n",
      "April 2006(This essay is derived from a talk at the 2006  Startup School. )The startups we've funded so far are pretty quick, but they seem  quicker to learn some lessons than others. I think it's because  some things about startups are kind of counterintuitive.We've now  invested  in enough companies that I've learned a trick  for determining which points are the counterintuitive ones:  they're the ones I have to keep repeating.So I'm going to number these points, and maybe with future startups\n",
      "------------------------\n",
      "PaulGrahamEssaysLarge\\startuplessons.txt\n",
      "------------------------\n",
      "business risk, accelerate time-to-value and sustain lower total  cost of ownership.  An established company may get away with such an opaque description,  but no startup can. A startup  should be able to explain in one or two sentences exactly what it  does.  [4]  And not just to users. You need this for everyone:  investors, acquirers, partners, reporters, potential employees, and  even current employees. You probably shouldn't even start a company\n",
      "------------------------\n",
      "PaulGrahamEssaysLarge\\before.txt\n",
      "------------------------\n",
      "the outward forms of a startup they have neglected the one thing  that's actually essential: making something people want.  GameWe saw this happen so often that we made up a name for it: playing  house. Eventually I realized why it was happening. The reason  young founders go through the motions of starting a startup is  because that's what they've been trained to do for their whole lives  up to that point. Think about what you have to do to get into\n",
      "------------------------\n"
     ]
    }
   ],
   "source": [
    "question = \"What is the authors view on the early stages of a startup?\"\n",
    "context = \"\"\n",
    "\n",
    "for doc in db.similarity_search(question, k = 3):\n",
    "    print(doc.metadata['source'])\n",
    "    print(\"------------------------\")\n",
    "    print(\" \".join(doc.page_content.split(\"\\n\")))\n",
    "    print(\"------------------------\")\n",
    "    context += doc.metadata['source'] + \"\\n\"\n",
    "    context += \" \".join(doc.page_content.split(\"\\n\")) +\"\\n\\n\""
   ]
  },
  {
   "cell_type": "code",
   "execution_count": 6,
   "id": "2ef9eaed",
   "metadata": {},
   "outputs": [],
   "source": [
    "prompt_template = \"\"\"Use the following pieces of context to answer the question at the end.\n",
    "If you don't know the answer, just say that you don't know, don't try to make up an answer.\n",
    "\n",
    "{context}\\\n",
    "Question: {question}\n",
    "Answer:\"\"\"\n",
    "PROMPT = PromptTemplate(\n",
    "    template=prompt_template, input_variables=[\"context\", \"question\"]\n",
    ")"
   ]
  },
  {
   "cell_type": "code",
   "execution_count": 7,
   "id": "282019d2",
   "metadata": {},
   "outputs": [
    {
     "name": "stdout",
     "output_type": "stream",
     "text": [
      "Use the following pieces of context to answer the question at the end.\n",
      "If you don't know the answer, just say that you don't know, don't try to make up an answer.\n",
      "\n",
      "PaulGrahamEssaysLarge\\startuplessons.txt\n",
      "April 2006(This essay is derived from a talk at the 2006  Startup School. )The startups we've funded so far are pretty quick, but they seem  quicker to learn some lessons than others. I think it's because  some things about startups are kind of counterintuitive.We've now  invested  in enough companies that I've learned a trick  for determining which points are the counterintuitive ones:  they're the ones I have to keep repeating.So I'm going to number these points, and maybe with future startups\n",
      "\n",
      "PaulGrahamEssaysLarge\\startuplessons.txt\n",
      "business risk, accelerate time-to-value and sustain lower total  cost of ownership.  An established company may get away with such an opaque description,  but no startup can. A startup  should be able to explain in one or two sentences exactly what it  does.  [4]  And not just to users. You need this for everyone:  investors, acquirers, partners, reporters, potential employees, and  even current employees. You probably shouldn't even start a company\n",
      "\n",
      "PaulGrahamEssaysLarge\\before.txt\n",
      "the outward forms of a startup they have neglected the one thing  that's actually essential: making something people want.  GameWe saw this happen so often that we made up a name for it: playing  house. Eventually I realized why it was happening. The reason  young founders go through the motions of starting a startup is  because that's what they've been trained to do for their whole lives  up to that point. Think about what you have to do to get into\n",
      "\n",
      "Question: What is the authors view on the early stages of a startup?\n",
      "Answer:\n"
     ]
    }
   ],
   "source": [
    "print(PROMPT.format_prompt(context=context, question=question).to_string())"
   ]
  },
  {
   "cell_type": "code",
   "execution_count": null,
   "id": "f812039a",
   "metadata": {},
   "outputs": [],
   "source": []
  }
 ],
 "metadata": {
  "kernelspec": {
   "display_name": "Python 3 (ipykernel)",
   "language": "python",
   "name": "python3"
  },
  "language_info": {
   "codemirror_mode": {
    "name": "ipython",
    "version": 3
   },
   "file_extension": ".py",
   "mimetype": "text/x-python",
   "name": "python",
   "nbconvert_exporter": "python",
   "pygments_lexer": "ipython3",
   "version": "3.10.10"
  }
 },
 "nbformat": 4,
 "nbformat_minor": 5
}
