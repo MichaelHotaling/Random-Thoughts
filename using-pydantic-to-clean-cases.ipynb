{
 "cells": [
  {
   "cell_type": "code",
   "execution_count": 1,
   "id": "cc173e3a",
   "metadata": {},
   "outputs": [],
   "source": [
    "from typing import List\n",
    "import json\n",
    "\n",
    "from langchain.output_parsers import PydanticOutputParser\n",
    "from langchain.prompts import PromptTemplate\n",
    "from langchain.pydantic_v1 import BaseModel, Field, validator, Required\n",
    "from langchain_openai import ChatOpenAI\n",
    "import datetime\n",
    "\n",
    "import langchain"
   ]
  },
  {
   "cell_type": "code",
   "execution_count": 2,
   "id": "e9c9d9f2",
   "metadata": {},
   "outputs": [],
   "source": [
    "langchain.debug = True"
   ]
  },
  {
   "cell_type": "code",
   "execution_count": 3,
   "id": "1eccc324",
   "metadata": {},
   "outputs": [],
   "source": [
    "model = ChatOpenAI(temperature=0)"
   ]
  },
  {
   "cell_type": "code",
   "execution_count": 4,
   "id": "712dfb3b",
   "metadata": {},
   "outputs": [],
   "source": [
    "sap_entry = (\n",
    "    \"SYSTEM_09 went down on Wednesday, 1/24/2024 for an automation error. \"\n",
    "    \"Arrived at the tool and found a wafer hanging off of the ETU. \"\n",
    "    \"Recovered the wafer and checked wafer grab positions using the FI Wizard. \"\n",
    "    \"FI Wizard succeeded with no changes to grab or loading positions. \"\n",
    "    \"CE returned the tool to production. \"\n",
    "    \"Tool went down again for an automatione error. \"\n",
    "    \"Cycled wafers through the system. \"\n",
    "    \"While unloading the wafers, automation error occured again. \"\n",
    "    \"Recovered the wafers again and checked LLK to ETU handoffs. \"\n",
    "    \"Found large shift in grab positions. \"\n",
    "    \"Visual inspection of the LLK revealed the O-ring had popped off the PAL base. \"\n",
    "    \"Opened the LLK lid, replaced the PAL base with a new unit and closed the LLK lid. \"\n",
    "    \"Verifying handoffs between LLK and ETU. \"\n",
    "    \"No calibrations needed. \"\n",
    "    \"Tool needs to run particle tests before releasing to production. \"\n",
    "    \"Tool passed all particle tests and was released to production.\"\n",
    ")"
   ]
  },
  {
   "cell_type": "code",
   "execution_count": 5,
   "id": "4570c0b5",
   "metadata": {},
   "outputs": [
    {
     "name": "stdout",
     "output_type": "stream",
     "text": [
      "SYSTEM_09 went down on Wednesday, 1/24/2024 for an automation error. Arrived at the tool and found a wafer hanging off of the ETU. Recovered the wafer and checked wafer grab positions using the FI Wizard. FI Wizard succeeded with no changes to grab or loading positions. CE returned the tool to production. Tool went down again for an automatione error. Cycled wafers through the system. While unloading the wafers, automation error occured again. Recovered the wafers again and checked LLK to ETU handoffs. Found large shift in grab positions. Visual inspection of the LLK revealed the O-ring had popped off the PAL base. Opened the LLK lid, replaced the PAL base with a new unit and closed the LLK lid. Verifying handoffs between LLK and ETU. No calibrations needed. Tool needs to run particle tests before releasing to production. Tool passed all particle tests and was released to production.\n"
     ]
    }
   ],
   "source": [
    "print(sap_entry)"
   ]
  },
  {
   "cell_type": "code",
   "execution_count": 21,
   "id": "2adbab0e",
   "metadata": {},
   "outputs": [],
   "source": [
    "class Action(BaseModel):\n",
    "    index: int = Field(Required, gt = 0, description = \"The order of the action performed.\")\n",
    "    action: str = Field(Required, description = \"A specific action done.\")\n",
    "#    resolution: bool = Field(Required, description = \"Did the action resolve the root cause? \")\n",
    "        \n",
    "class Symptom(BaseModel):\n",
    "    symptom: str = Field(Required, description = \"A symptom of the primary problem statement.\")\n",
    "        \n",
    "class ToolEvent(BaseModel):\n",
    "    tool_name: str = Field(Required, description = \"The name of the system.\")\n",
    "    start_time: datetime.datetime = Field(Required, description = \"When the issue started.\")\n",
    "    problem_statement: str = Field(Required, description= \"A high level problem statement describing hte issue.\")\n",
    "    symptoms: List[Symptom] = Field(Required, description = \"A list of symptoms associated with the problem.\")\n",
    "    actions: List[Action] = Field(Required, description = \"A list os actions performed.\")\n",
    "    root_cause: str = Field(Required, description = \"The final root cause of the initial problem statement.\")\n",
    "    resolution: str = Field(Required, description = \"What was done to resolve the root cause.\")"
   ]
  },
  {
   "cell_type": "code",
   "execution_count": 22,
   "id": "cb097a3e",
   "metadata": {},
   "outputs": [],
   "source": [
    "template = (\n",
    "    \"You are going to be given an entry from a service case submitted by an engineer. \"\n",
    "    \"You need to identify specific items from this entry based on the following schema. \"\n",
    "    \"Be as concise as possible. \"\n",
    "    \"\\n{format_instructions}\\n{query}\\n\"\n",
    ")"
   ]
  },
  {
   "cell_type": "code",
   "execution_count": 23,
   "id": "76663c3a",
   "metadata": {},
   "outputs": [
    {
     "name": "stdout",
     "output_type": "stream",
     "text": [
      "\u001b[32;1m\u001b[1;3m[llm/start]\u001b[0m \u001b[1m[1:llm:ChatOpenAI] Entering LLM run with input:\n",
      "\u001b[0m{\n",
      "  \"prompts\": [\n",
      "    \"Human: You are going to be given an entry from a service case submitted by an engineer. You need to identify specific items from this entry based on the following schema. Be as concise as possible. \\nThe output should be formatted as a JSON instance that conforms to the JSON schema below.\\n\\nAs an example, for the schema {\\\"properties\\\": {\\\"foo\\\": {\\\"title\\\": \\\"Foo\\\", \\\"description\\\": \\\"a list of strings\\\", \\\"type\\\": \\\"array\\\", \\\"items\\\": {\\\"type\\\": \\\"string\\\"}}}, \\\"required\\\": [\\\"foo\\\"]}\\nthe object {\\\"foo\\\": [\\\"bar\\\", \\\"baz\\\"]} is a well-formatted instance of the schema. The object {\\\"properties\\\": {\\\"foo\\\": [\\\"bar\\\", \\\"baz\\\"]}} is not well-formatted.\\n\\nHere is the output schema:\\n```\\n{\\\"properties\\\": {\\\"tool_name\\\": {\\\"title\\\": \\\"Tool Name\\\", \\\"description\\\": \\\"The name of the system.\\\", \\\"type\\\": \\\"string\\\"}, \\\"start_time\\\": {\\\"title\\\": \\\"Start Time\\\", \\\"description\\\": \\\"When the issue started.\\\", \\\"type\\\": \\\"string\\\", \\\"format\\\": \\\"date-time\\\"}, \\\"problem_statement\\\": {\\\"title\\\": \\\"Problem Statement\\\", \\\"description\\\": \\\"A high level problem statement describing hte issue.\\\", \\\"type\\\": \\\"string\\\"}, \\\"symptoms\\\": {\\\"title\\\": \\\"Symptoms\\\", \\\"description\\\": \\\"A list of symptoms associated with the problem.\\\", \\\"type\\\": \\\"array\\\", \\\"items\\\": {\\\"$ref\\\": \\\"#/definitions/Symptom\\\"}}, \\\"actions\\\": {\\\"title\\\": \\\"Actions\\\", \\\"description\\\": \\\"A list os actions performed.\\\", \\\"type\\\": \\\"array\\\", \\\"items\\\": {\\\"$ref\\\": \\\"#/definitions/Action\\\"}}, \\\"root_cause\\\": {\\\"title\\\": \\\"Root Cause\\\", \\\"description\\\": \\\"The final root cause of the initial problem statement.\\\", \\\"type\\\": \\\"string\\\"}, \\\"resolution\\\": {\\\"title\\\": \\\"Resolution\\\", \\\"description\\\": \\\"What was done to resolve the root cause.\\\", \\\"type\\\": \\\"string\\\"}}, \\\"required\\\": [\\\"tool_name\\\", \\\"start_time\\\", \\\"problem_statement\\\", \\\"symptoms\\\", \\\"actions\\\", \\\"root_cause\\\", \\\"resolution\\\"], \\\"definitions\\\": {\\\"Symptom\\\": {\\\"title\\\": \\\"Symptom\\\", \\\"type\\\": \\\"object\\\", \\\"properties\\\": {\\\"symptom\\\": {\\\"title\\\": \\\"Symptom\\\", \\\"description\\\": \\\"A symptom of the primary problem statement.\\\", \\\"type\\\": \\\"string\\\"}}, \\\"required\\\": [\\\"symptom\\\"]}, \\\"Action\\\": {\\\"title\\\": \\\"Action\\\", \\\"type\\\": \\\"object\\\", \\\"properties\\\": {\\\"index\\\": {\\\"title\\\": \\\"Index\\\", \\\"description\\\": \\\"The order of the action performed.\\\", \\\"exclusiveMinimum\\\": 0, \\\"type\\\": \\\"integer\\\"}, \\\"action\\\": {\\\"title\\\": \\\"Action\\\", \\\"description\\\": \\\"A specific action done.\\\", \\\"type\\\": \\\"string\\\"}}, \\\"required\\\": [\\\"index\\\", \\\"action\\\"]}}}\\n```\\nSYSTEM_09 went down on Wednesday, 1/24/2024 for an automation error. Arrived at the tool and found a wafer hanging off of the ETU. Recovered the wafer and checked wafer grab positions using the FI Wizard. FI Wizard succeeded with no changes to grab or loading positions. CE returned the tool to production. Tool went down again for an automatione error. Cycled wafers through the system. While unloading the wafers, automation error occured again. Recovered the wafers again and checked LLK to ETU handoffs. Found large shift in grab positions. Visual inspection of the LLK revealed the O-ring had popped off the PAL base. Opened the LLK lid, replaced the PAL base with a new unit and closed the LLK lid. Verifying handoffs between LLK and ETU. No calibrations needed. Tool needs to run particle tests before releasing to production. Tool passed all particle tests and was released to production.\"\n",
      "  ]\n",
      "}\n",
      "\u001b[36;1m\u001b[1;3m[llm/end]\u001b[0m \u001b[1m[1:llm:ChatOpenAI] [14.06s] Exiting LLM run with output:\n",
      "\u001b[0m{\n",
      "  \"generations\": [\n",
      "    [\n",
      "      {\n",
      "        \"text\": \"{\\n  \\\"tool_name\\\": \\\"SYSTEM_09\\\",\\n  \\\"start_time\\\": \\\"2024-01-24T00:00:00Z\\\",\\n  \\\"problem_statement\\\": \\\"Automation error\\\",\\n  \\\"symptoms\\\": [\\n    {\\n      \\\"symptom\\\": \\\"Wafer hanging off of the ETU\\\"\\n    },\\n    {\\n      \\\"symptom\\\": \\\"Automation error while unloading wafers\\\"\\n    },\\n    {\\n      \\\"symptom\\\": \\\"Large shift in grab positions\\\"\\n    },\\n    {\\n      \\\"symptom\\\": \\\"O-ring popped off the PAL base\\\"\\n    }\\n  ],\\n  \\\"actions\\\": [\\n    {\\n      \\\"index\\\": 1,\\n      \\\"action\\\": \\\"Recovered the wafer and checked wafer grab positions using the FI Wizard\\\"\\n    },\\n    {\\n      \\\"index\\\": 2,\\n      \\\"action\\\": \\\"Returned the tool to production\\\"\\n    },\\n    {\\n      \\\"index\\\": 3,\\n      \\\"action\\\": \\\"Cycled wafers through the system\\\"\\n    },\\n    {\\n      \\\"index\\\": 4,\\n      \\\"action\\\": \\\"Recovered the wafers again and checked LLK to ETU handoffs\\\"\\n    },\\n    {\\n      \\\"index\\\": 5,\\n      \\\"action\\\": \\\"Opened the LLK lid, replaced the PAL base with a new unit and closed the LLK lid\\\"\\n    },\\n    {\\n      \\\"index\\\": 6,\\n      \\\"action\\\": \\\"Verified handoffs between LLK and ETU\\\"\\n    },\\n    {\\n      \\\"index\\\": 7,\\n      \\\"action\\\": \\\"Performed particle tests\\\"\\n    },\\n    {\\n      \\\"index\\\": 8,\\n      \\\"action\\\": \\\"Released the tool to production\\\"\\n    }\\n  ],\\n  \\\"root_cause\\\": \\\"O-ring popped off the PAL base\\\",\\n  \\\"resolution\\\": \\\"Replaced the PAL base with a new unit\\\"\\n}\",\n",
      "        \"generation_info\": {\n",
      "          \"finish_reason\": \"stop\",\n",
      "          \"logprobs\": null\n",
      "        },\n",
      "        \"type\": \"ChatGeneration\",\n",
      "        \"message\": {\n",
      "          \"lc\": 1,\n",
      "          \"type\": \"constructor\",\n",
      "          \"id\": [\n",
      "            \"langchain\",\n",
      "            \"schema\",\n",
      "            \"messages\",\n",
      "            \"AIMessage\"\n",
      "          ],\n",
      "          \"kwargs\": {\n",
      "            \"content\": \"{\\n  \\\"tool_name\\\": \\\"SYSTEM_09\\\",\\n  \\\"start_time\\\": \\\"2024-01-24T00:00:00Z\\\",\\n  \\\"problem_statement\\\": \\\"Automation error\\\",\\n  \\\"symptoms\\\": [\\n    {\\n      \\\"symptom\\\": \\\"Wafer hanging off of the ETU\\\"\\n    },\\n    {\\n      \\\"symptom\\\": \\\"Automation error while unloading wafers\\\"\\n    },\\n    {\\n      \\\"symptom\\\": \\\"Large shift in grab positions\\\"\\n    },\\n    {\\n      \\\"symptom\\\": \\\"O-ring popped off the PAL base\\\"\\n    }\\n  ],\\n  \\\"actions\\\": [\\n    {\\n      \\\"index\\\": 1,\\n      \\\"action\\\": \\\"Recovered the wafer and checked wafer grab positions using the FI Wizard\\\"\\n    },\\n    {\\n      \\\"index\\\": 2,\\n      \\\"action\\\": \\\"Returned the tool to production\\\"\\n    },\\n    {\\n      \\\"index\\\": 3,\\n      \\\"action\\\": \\\"Cycled wafers through the system\\\"\\n    },\\n    {\\n      \\\"index\\\": 4,\\n      \\\"action\\\": \\\"Recovered the wafers again and checked LLK to ETU handoffs\\\"\\n    },\\n    {\\n      \\\"index\\\": 5,\\n      \\\"action\\\": \\\"Opened the LLK lid, replaced the PAL base with a new unit and closed the LLK lid\\\"\\n    },\\n    {\\n      \\\"index\\\": 6,\\n      \\\"action\\\": \\\"Verified handoffs between LLK and ETU\\\"\\n    },\\n    {\\n      \\\"index\\\": 7,\\n      \\\"action\\\": \\\"Performed particle tests\\\"\\n    },\\n    {\\n      \\\"index\\\": 8,\\n      \\\"action\\\": \\\"Released the tool to production\\\"\\n    }\\n  ],\\n  \\\"root_cause\\\": \\\"O-ring popped off the PAL base\\\",\\n  \\\"resolution\\\": \\\"Replaced the PAL base with a new unit\\\"\\n}\",\n",
      "            \"additional_kwargs\": {}\n",
      "          }\n",
      "        }\n",
      "      }\n",
      "    ]\n",
      "  ],\n",
      "  \"llm_output\": {\n",
      "    \"token_usage\": {\n",
      "      \"completion_tokens\": 373,\n",
      "      \"prompt_tokens\": 788,\n",
      "      \"total_tokens\": 1161\n",
      "    },\n",
      "    \"model_name\": \"gpt-3.5-turbo\",\n",
      "    \"system_fingerprint\": null\n",
      "  },\n",
      "  \"run\": null\n",
      "}\n"
     ]
    }
   ],
   "source": [
    "\n",
    "parser = PydanticOutputParser(pydantic_object=ToolEvent)\n",
    "\n",
    "prompt = PromptTemplate(\n",
    "    template=template,\n",
    "    input_variables=[\"query\"],\n",
    "    partial_variables={\"format_instructions\": parser.get_format_instructions()},\n",
    ")\n",
    "\n",
    "_input = prompt.format_prompt(query = sap_entry)\n",
    "output = model.invoke(_input.to_string())\n",
    "response = parser.parse(output.content)"
   ]
  },
  {
   "cell_type": "code",
   "execution_count": 24,
   "id": "d67d2d88",
   "metadata": {},
   "outputs": [
    {
     "data": {
      "text/plain": [
       "{'tool_name': 'SYSTEM_09',\n",
       " 'start_time': datetime.datetime(2024, 1, 24, 0, 0, tzinfo=datetime.timezone.utc),\n",
       " 'problem_statement': 'Automation error',\n",
       " 'symptoms': [{'symptom': 'Wafer hanging off of the ETU'},\n",
       "  {'symptom': 'Automation error while unloading wafers'},\n",
       "  {'symptom': 'Large shift in grab positions'},\n",
       "  {'symptom': 'O-ring popped off the PAL base'}],\n",
       " 'actions': [{'index': 1,\n",
       "   'action': 'Recovered the wafer and checked wafer grab positions using the FI Wizard'},\n",
       "  {'index': 2, 'action': 'Returned the tool to production'},\n",
       "  {'index': 3, 'action': 'Cycled wafers through the system'},\n",
       "  {'index': 4,\n",
       "   'action': 'Recovered the wafers again and checked LLK to ETU handoffs'},\n",
       "  {'index': 5,\n",
       "   'action': 'Opened the LLK lid, replaced the PAL base with a new unit and closed the LLK lid'},\n",
       "  {'index': 6, 'action': 'Verified handoffs between LLK and ETU'},\n",
       "  {'index': 7, 'action': 'Performed particle tests'},\n",
       "  {'index': 8, 'action': 'Released the tool to production'}],\n",
       " 'root_cause': 'O-ring popped off the PAL base',\n",
       " 'resolution': 'Replaced the PAL base with a new unit'}"
      ]
     },
     "execution_count": 24,
     "metadata": {},
     "output_type": "execute_result"
    }
   ],
   "source": [
    "response.dict()"
   ]
  },
  {
   "cell_type": "code",
   "execution_count": 25,
   "id": "452fa696",
   "metadata": {},
   "outputs": [
    {
     "name": "stdout",
     "output_type": "stream",
     "text": [
      "{\n",
      "    \"tool_name\": \"SYSTEM_09\",\n",
      "    \"start_time\": \"2024-01-24 00:00:00+00:00\",\n",
      "    \"problem_statement\": \"Automation error\",\n",
      "    \"symptoms\": [\n",
      "        {\n",
      "            \"symptom\": \"Wafer hanging off of the ETU\"\n",
      "        },\n",
      "        {\n",
      "            \"symptom\": \"Automation error while unloading wafers\"\n",
      "        },\n",
      "        {\n",
      "            \"symptom\": \"Large shift in grab positions\"\n",
      "        },\n",
      "        {\n",
      "            \"symptom\": \"O-ring popped off the PAL base\"\n",
      "        }\n",
      "    ],\n",
      "    \"actions\": [\n",
      "        {\n",
      "            \"index\": 1,\n",
      "            \"action\": \"Recovered the wafer and checked wafer grab positions using the FI Wizard\"\n",
      "        },\n",
      "        {\n",
      "            \"index\": 2,\n",
      "            \"action\": \"Returned the tool to production\"\n",
      "        },\n",
      "        {\n",
      "            \"index\": 3,\n",
      "            \"action\": \"Cycled wafers through the system\"\n",
      "        },\n",
      "        {\n",
      "            \"index\": 4,\n",
      "            \"action\": \"Recovered the wafers again and checked LLK to ETU handoffs\"\n",
      "        },\n",
      "        {\n",
      "            \"index\": 5,\n",
      "            \"action\": \"Opened the LLK lid, replaced the PAL base with a new unit and closed the LLK lid\"\n",
      "        },\n",
      "        {\n",
      "            \"index\": 6,\n",
      "            \"action\": \"Verified handoffs between LLK and ETU\"\n",
      "        },\n",
      "        {\n",
      "            \"index\": 7,\n",
      "            \"action\": \"Performed particle tests\"\n",
      "        },\n",
      "        {\n",
      "            \"index\": 8,\n",
      "            \"action\": \"Released the tool to production\"\n",
      "        }\n",
      "    ],\n",
      "    \"root_cause\": \"O-ring popped off the PAL base\",\n",
      "    \"resolution\": \"Replaced the PAL base with a new unit\"\n",
      "}\n"
     ]
    }
   ],
   "source": [
    "print(json.dumps(response.dict(), indent = 4, default=str))"
   ]
  },
  {
   "cell_type": "code",
   "execution_count": null,
   "id": "c3444896",
   "metadata": {},
   "outputs": [],
   "source": []
  }
 ],
 "metadata": {
  "kernelspec": {
   "display_name": "Python 3 (ipykernel)",
   "language": "python",
   "name": "python3"
  },
  "language_info": {
   "codemirror_mode": {
    "name": "ipython",
    "version": 3
   },
   "file_extension": ".py",
   "mimetype": "text/x-python",
   "name": "python",
   "nbconvert_exporter": "python",
   "pygments_lexer": "ipython3",
   "version": "3.10.10"
  }
 },
 "nbformat": 4,
 "nbformat_minor": 5
}
